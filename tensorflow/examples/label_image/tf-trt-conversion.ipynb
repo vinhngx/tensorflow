{
 "cells": [
  {
   "cell_type": "code",
   "execution_count": 1,
   "metadata": {},
   "outputs": [
    {
     "name": "stdout",
     "output_type": "stream",
     "text": [
      "ii  libnvinfer-bin                         6.0.1-1+cuda10.1                  amd64        TensorRT binaries\r\n",
      "ii  libnvinfer-dev                         6.0.1-1+cuda10.1                  amd64        TensorRT development libraries and headers\r\n",
      "ii  libnvinfer-plugin-dev                  6.0.1-1+cuda10.1                  amd64        TensorRT plugin libraries\r\n",
      "ii  libnvinfer-plugin6                     6.0.1-1+cuda10.1                  amd64        TensorRT plugin libraries\r\n",
      "ii  libnvinfer6                            6.0.1-1+cuda10.1                  amd64        TensorRT runtime libraries\r\n",
      "ii  python3-libnvinfer                     6.0.1-1+cuda10.1                  amd64        Python 3 bindings for TensorRT\r\n",
      "ii  python3-libnvinfer-dev                 6.0.1-1+cuda10.1                  amd64        Python 3 development package for TensorRT\r\n"
     ]
    }
   ],
   "source": [
    "\n",
    "\n",
    "import tensorflow as tf\n",
    "import tensorflow.contrib.tensorrt as trt\n",
    "import numpy as np\n",
    "import matplotlib.pyplot as plt\n",
    "import os\n",
    "import time\n",
    "import logging\n",
    "\n",
    "logging.getLogger(\"tensorflow\").setLevel(logging.ERROR)\n",
    "\n",
    "import os\n",
    "os.environ['CUDA_VISIBLE_DEVICES']='0'\n",
    "\n",
    "\n",
    "config = tf.ConfigProto()\n",
    "config.gpu_options.allow_growth=True\n",
    "\n",
    "#check TensorRT version\n",
    "!dpkg -l | grep nvinfer\n",
    "\n"
   ]
  },
  {
   "cell_type": "code",
   "execution_count": 14,
   "metadata": {},
   "outputs": [],
   "source": [
    "def load_graph(model_file):\n",
    "  graph = tf.Graph()\n",
    "  graph_def = tf.GraphDef()\n",
    "\n",
    "  with open(model_file, \"rb\") as f:\n",
    "    graph_def.ParseFromString(f.read())\n",
    "  with graph.as_default():\n",
    "    tf.import_graph_def(graph_def)\n",
    "\n",
    "  return graph\n",
    "\n",
    "def load_graph_def(model_file):  \n",
    "  graph_def = tf.GraphDef()\n",
    "\n",
    "  with open(model_file, \"rb\") as f:\n",
    "    graph_def.ParseFromString(f.read())\n",
    "  \n",
    "  return graph_def"
   ]
  },
  {
   "cell_type": "code",
   "execution_count": 3,
   "metadata": {},
   "outputs": [],
   "source": [
    "def read_tensor_from_image_file(file_name,\n",
    "                                input_height=299,\n",
    "                                input_width=299,\n",
    "                                input_mean=0,\n",
    "                                input_std=255):\n",
    "  input_name = \"file_reader\"\n",
    "  output_name = \"normalized\"\n",
    "  file_reader = tf.read_file(file_name, input_name)\n",
    "  if file_name.endswith(\".png\"):\n",
    "    image_reader = tf.image.decode_png(\n",
    "        file_reader, channels=3, name=\"png_reader\")\n",
    "  elif file_name.endswith(\".gif\"):\n",
    "    image_reader = tf.squeeze(\n",
    "        tf.image.decode_gif(file_reader, name=\"gif_reader\"))\n",
    "  elif file_name.endswith(\".bmp\"):\n",
    "    image_reader = tf.image.decode_bmp(file_reader, name=\"bmp_reader\")\n",
    "  else:\n",
    "    image_reader = tf.image.decode_jpeg(\n",
    "        file_reader, channels=3, name=\"jpeg_reader\")\n",
    "  float_caster = tf.cast(image_reader, tf.float32)\n",
    "  dims_expander = tf.expand_dims(float_caster, 0)\n",
    "  resized = tf.image.resize_bilinear(dims_expander, [input_height, input_width])\n",
    "  normalized = tf.divide(tf.subtract(resized, [input_mean]), [input_std])\n",
    "  sess = tf.compat.v1.Session()\n",
    "  result = sess.run(normalized)\n",
    "\n",
    "  return result"
   ]
  },
  {
   "cell_type": "code",
   "execution_count": 4,
   "metadata": {},
   "outputs": [],
   "source": [
    "def load_labels(label_file):\n",
    "  label = []\n",
    "  proto_as_ascii_lines = tf.gfile.GFile(label_file).readlines()\n",
    "  for l in proto_as_ascii_lines:\n",
    "    label.append(l.rstrip())\n",
    "  return label"
   ]
  },
  {
   "cell_type": "code",
   "execution_count": 23,
   "metadata": {},
   "outputs": [],
   "source": [
    "  file_name = \"./data/grace_hopper.jpg\"\n",
    "  model_file = \\\n",
    "    \"./data/inception_v3_2016_08_28_frozen.pb\"\n",
    "  label_file = \"./data/imagenet_slim_labels.txt\"\n",
    "  input_height = 299\n",
    "  input_width = 299\n",
    "  input_mean = 0\n",
    "  input_std = 255\n",
    "  input_layer = \"input\"\n",
    "  output_layer = \"InceptionV3/Predictions/Reshape_1\""
   ]
  },
  {
   "cell_type": "code",
   "execution_count": 24,
   "metadata": {},
   "outputs": [],
   "source": [
    "graph = load_graph(model_file)\n",
    "    \n",
    "t = read_tensor_from_image_file(\n",
    "      file_name,\n",
    "      input_height=input_height,\n",
    "      input_width=input_width,\n",
    "      input_mean=input_mean,\n",
    "      input_std=input_std)\n"
   ]
  },
  {
   "cell_type": "code",
   "execution_count": 25,
   "metadata": {},
   "outputs": [
    {
     "name": "stdout",
     "output_type": "stream",
     "text": [
      "military uniform 0.8343052\n",
      "mortarboard 0.021869471\n",
      "academic gown 0.010358049\n",
      "pickelhaube 0.00800826\n",
      "bulletproof vest 0.0053509204\n"
     ]
    }
   ],
   "source": [
    "  input_name = \"import/\" + input_layer\n",
    "  output_name = \"import/\" + output_layer\n",
    "  input_operation = graph.get_operation_by_name(input_name)\n",
    "  output_operation = graph.get_operation_by_name(output_name)\n",
    "\n",
    "  with tf.compat.v1.Session(graph=graph) as sess:\n",
    "    results = sess.run(output_operation.outputs[0], {\n",
    "        input_operation.outputs[0]: t\n",
    "    })\n",
    "  results = np.squeeze(results)\n",
    "\n",
    "  top_k = results.argsort()[-5:][::-1]\n",
    "  labels = load_labels(label_file)\n",
    "  for i in top_k:\n",
    "    print(labels[i], results[i])"
   ]
  },
  {
   "cell_type": "code",
   "execution_count": 26,
   "metadata": {},
   "outputs": [],
   "source": [
    "BATCH_SIZE = 1\n",
    "\n",
    "graph_def = load_graph_def(model_file)\n",
    "    \n",
    "trt_fp32_graph = trt.create_inference_graph(\n",
    "    input_graph_def=graph_def,\n",
    "    outputs=['InceptionV3/Predictions/Reshape_1'],\n",
    "    max_batch_size=BATCH_SIZE,\n",
    "    precision_mode=\"FP32\")\n",
    "\n"
   ]
  },
  {
   "cell_type": "code",
   "execution_count": 31,
   "metadata": {},
   "outputs": [],
   "source": [
    "with tf.gfile.GFile('./data/inception_v3_2016_08_28_frozen_tftrt_fp32.pb', 'wb') as f:\n",
    "    f.write(trt_fp32_graph.SerializeToString())"
   ]
  },
  {
   "cell_type": "code",
   "execution_count": 33,
   "metadata": {},
   "outputs": [
    {
     "name": "stdout",
     "output_type": "stream",
     "text": [
      "total 282868\r\n",
      "-rwxrwxrwx 1 root   root     61306 Nov  8 22:40 grace_hopper.jpg\r\n",
      "-rwxrwxrwx 1 270850 5000     10479 Jan 18  2017 imagenet_slim_labels.txt\r\n",
      "-rwxrwxrwx 1 270850 5000  95746802 Jan 18  2017 inception_v3_2016_08_28_frozen.pb\r\n",
      "-rw-r--r-- 1 root   root 193832798 Nov 12 16:15 inception_v3_2016_08_28_frozen_tftrt_fp32.pb\r\n"
     ]
    }
   ],
   "source": [
    "!ls -l data"
   ]
  },
  {
   "cell_type": "code",
   "execution_count": 34,
   "metadata": {},
   "outputs": [
    {
     "name": "stdout",
     "output_type": "stream",
     "text": [
      "military uniform 0.8343062\n",
      "mortarboard 0.02186937\n",
      "academic gown 0.010358016\n",
      "pickelhaube 0.008008178\n",
      "bulletproof vest 0.005350883\n"
     ]
    }
   ],
   "source": [
    "  graph = load_graph('./data/inception_v3_2016_08_28_frozen_tftrt_fp32.pb')\n",
    "\n",
    "  input_name = \"import/\" + input_layer\n",
    "  output_name = \"import/\" + output_layer\n",
    "  input_operation = graph.get_operation_by_name(input_name)\n",
    "  output_operation = graph.get_operation_by_name(output_name)\n",
    "\n",
    "  with tf.compat.v1.Session(graph=graph) as sess:\n",
    "    results = sess.run(output_operation.outputs[0], {\n",
    "        input_operation.outputs[0]: t\n",
    "    })\n",
    "  results = np.squeeze(results)\n",
    "\n",
    "  top_k = results.argsort()[-5:][::-1]\n",
    "  labels = load_labels(label_file)\n",
    "  for i in top_k:\n",
    "    print(labels[i], results[i])"
   ]
  },
  {
   "cell_type": "code",
   "execution_count": null,
   "metadata": {},
   "outputs": [],
   "source": []
  }
 ],
 "metadata": {
  "kernelspec": {
   "display_name": "Python 3",
   "language": "python",
   "name": "python3"
  },
  "language_info": {
   "codemirror_mode": {
    "name": "ipython",
    "version": 3
   },
   "file_extension": ".py",
   "mimetype": "text/x-python",
   "name": "python",
   "nbconvert_exporter": "python",
   "pygments_lexer": "ipython3",
   "version": "3.6.8"
  }
 },
 "nbformat": 4,
 "nbformat_minor": 2
}
